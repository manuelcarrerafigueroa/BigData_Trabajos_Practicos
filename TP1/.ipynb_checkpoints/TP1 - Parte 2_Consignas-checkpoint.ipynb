{
 "cells": [
  {
   "cell_type": "markdown",
   "metadata": {
    "collapsed": true,
    "id": "Dh8MkXaG-c9Y"
   },
   "source": [
    "# Curso de Big Data\n",
    "\n",
    "## Trabajo Práctico 1 - Parte 2"
   ]
  },
  {
   "cell_type": "markdown",
   "metadata": {
    "id": "RhBlm6mZ-c9e"
   },
   "source": [
    "### Reglas de formato y presentación\n",
    "- El trabajo debe estar bien comentado (utilizando #) para que el código sea fácil de entender por sus compañeros y profesores.\n",
    "\n",
    "- El mismo debe ser completado en este Jupyter Notebook y entregado como tal, es decir en un archivo .ipynb\n"
   ]
  },
  {
   "cell_type": "markdown",
   "metadata": {
    "id": "ZEjGaa4U-c9g"
   },
   "source": [
    "### Fecha de entrega:\n",
    "Miércoles 4 de octubre a las 23:59hs"
   ]
  },
  {
   "cell_type": "markdown",
   "metadata": {
    "id": "N9TU2y7E-c9h"
   },
   "source": [
    "### Modalidad de entrega\n",
    "- Al finalizar el trabajo práctico deben hacer un último <i>commit</i> en su repositorio de GitHub con el mensaje “Entrega final del tp”. \n",
    "- Asegurense de haber creado una carpeta llamada TP1. Este Jupyter Notebook y el correspondiente al TP1 - Parte 1 deben estar dentro de esa carpeta.\n",
    "- También deben completar el link de su repositorio -para que pueda ser clonado y corregido- en la siguiente google sheet: https://docs.google.com/spreadsheets/d/11nJY1Frgla45sTgsPiSeOZM9iBM-XRWh/edit?usp=sharing&ouid=105815768529474116534&rtpof=true&sd=true\n",
    "- La última versión en el repositorio es la que será evaluada. Por lo que es importante que: \n",
    "    - No completen la google sheet hasta no haber terminado y estar seguros de que han hecho el <i>commit y push</i> a la versión final que quieren entregar. Debido a que se pueden tomar hasta 3 días de extensión a lo largo del curso, no se  corregirán sus tareas hasta no ver el link en la google sheet.\n",
    "    - No hagan nuevos <i>push</i> despues de haber entregado su versión final. Esto generaría confusión acerca de que versión es la que quieren que se les corrija. "
   ]
  },
  {
   "cell_type": "markdown",
   "metadata": {
    "id": "ZXbrPraa-c9i"
   },
   "source": [
    "#### Ejercicio 1\n",
    "Usando la API de Mercado Libre, obtener los ítems de una consulta de búsqueda. Pueden buscar cualquier producto de su interés."
   ]
  },
  {
   "cell_type": "markdown",
   "metadata": {},
   "source": [
    "#### Ejercicio 2\n",
    "Guarden los precios de los ítems obtenidos en un dataframe y calculen el precio promedio, el mínimo y el máximo. "
   ]
  },
  {
   "cell_type": "markdown",
   "metadata": {},
   "source": [
    "#### Ejercicio 3\n",
    "Armen un histograma de los precios. ¿Ven algún <i>outlier<i>? \n",
    "Nota: pueden usar la librería de Matplotlib o la de Pandas."
   ]
  },
  {
   "cell_type": "code",
   "execution_count": 1,
   "metadata": {},
   "outputs": [],
   "source": [
    "#Ejerecicio 1\n",
    "import requests #Importamos el paquete requests para trabajar APIs\n",
    "import pandas as pd #Importamos el paquete pandas para trabajar data frames\n",
    "import matplotlib.pyplot as plt #Importamos la función pyplot de matplotlib para trabajar los gráficos"
   ]
  },
  {
   "cell_type": "code",
   "execution_count": 2,
   "metadata": {},
   "outputs": [],
   "source": [
    "buscar = \"Libro Big Data Walter Sosa Escudero\" #Definimos la variable buscar con el objeto que vamos a buscar\n",
    "url = \"https://api.mercadolibre.com/sites/{}/search?q={}\".format(\"MLA\", buscar.replace(\" \", \"%20\")) #Defimos el url de la API que queremos buscar incluyendo el objeto y reemplazamos los espacios por %20\n",
    "response = requests.request(\"GET\", url) #Realizamos la busqueda y guardamos los resultados en response\n",
    "data = response.json() #Creamos un diccionario json con los resultados encontrados"
   ]
  },
  {
   "cell_type": "code",
   "execution_count": 3,
   "metadata": {},
   "outputs": [
    {
     "name": "stdout",
     "output_type": "stream",
     "text": [
      "El precio promedio es 7124.74\n",
      "El precio mínimo es 2860\n",
      "El precio máximo es 17970\n"
     ]
    }
   ],
   "source": [
    "#Ejercicio 2\n",
    "data_frame = pd.DataFrame(data['results']) #A partir de los resultados construimos un dataframe \n",
    "\n",
    "promedio = data_frame['price'].mean() #Calculamos el promedio del precio y lo almacenamos en la variable promedio\n",
    "minimo = min(data_frame['price']) #Calculamos el precio mínimo y lo almacenamos en la variable minimo\n",
    "maximo = max(data_frame['price']) #Calculamos el precio máximo y lo almacenamos en la variable maximo\n",
    "\n",
    "print('El precio promedio es', promedio) #Imprimimos el promedio\n",
    "print('El precio mínimo es', minimo) #Imprimimos el mínimo\n",
    "print('El precio máximo es', maximo) #Imprimimos el máximo\n"
   ]
  },
  {
   "cell_type": "code",
   "execution_count": 4,
   "metadata": {},
   "outputs": [
    {
     "data": {
      "image/png": "[encoded data removed]",
      "text/plain": [
       "<Figure size 640x480 with 1 Axes>"
      ]
     },
     "metadata": {},
     "output_type": "display_data"
    }
   ],
   "source": [
    "#Ejercicio 3\n",
    "histogram = data_frame['price'].plot.hist(bins = 20) #Creamos un histograma de los precios y los guardamos en histogram\n",
    "plt.title('Histograma de Frecuencia de Precios')\n",
    "plt.xlabel('Precio') #Agregamos nombre al eje X\n",
    "plt.ylabel('Frecuencia') #Agregamos nombre al eje Y\n",
    "plt.show() #Imprimimos el histograma\n",
    "\n",
    "\n",
    "#Vemos dos outliers, que representan tanto el mínimo como el máximo de nuestros datos.\n",
    "#El máximo se encuentra radicalmente más alejado, mientras que el mínimo, si bien está alejado de los valores centrales, permanece más próximo. "
   ]
  }
 ],
 "metadata": {
  "anaconda-cloud": {},
  "colab": {
   "name": "TP1 - Parte 1.ipynb",
   "provenance": []
  },
  "kernelspec": {
   "display_name": "Python 3 (ipykernel)",
   "language": "python",
   "name": "python3"
  },
  "language_info": {
   "codemirror_mode": {
    "name": "ipython",
    "version": 3
   },
   "file_extension": ".py",
   "mimetype": "text/x-python",
   "name": "python",
   "nbconvert_exporter": "python",
   "pygments_lexer": "ipython3",
   "version": "3.11.4"
  }
 },
 "nbformat": 4,
 "nbformat_minor": 1
}
