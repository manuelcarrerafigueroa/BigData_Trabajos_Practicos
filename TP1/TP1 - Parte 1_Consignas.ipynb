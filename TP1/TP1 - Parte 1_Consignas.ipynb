{
 "cells": [
  {
   "cell_type": "markdown",
   "metadata": {
    "collapsed": true,
    "id": "Dh8MkXaG-c9Y"
   },
   "source": [
    "# Curso de Big Data\n",
    "\n",
    "## Trabajo Práctico 1 - Parte 1"
   ]
  },
  {
   "cell_type": "markdown",
   "metadata": {
    "id": "RhBlm6mZ-c9e"
   },
   "source": [
    "### Reglas de formato y presentación\n",
    "- El trabajo debe estar bien comentado (utilizando #) para que el código sea fácil de entender por sus compañeros y profesores.\n",
    "\n",
    "- El mismo debe ser completado en este Jupyter Notebook y entregado como tal, es decir en un archivo .ipynb\n"
   ]
  },
  {
   "cell_type": "markdown",
   "metadata": {
    "id": "ZEjGaa4U-c9g"
   },
   "source": [
    "### Fecha de entrega:\n",
    "Miércoles 4 de octubre a las 23:59hs"
   ]
  },
  {
   "cell_type": "markdown",
   "metadata": {
    "id": "N9TU2y7E-c9h"
   },
   "source": [
    "### Modalidad de entrega\n",
    "- Al finalizar el trabajo práctico deben hacer un último <i>commit</i> en su repositorio de GitHub con el mensaje “Entrega final del tp”. \n",
    "- Asegurense de haber creado una carpeta llamada TP1. Este Jupyter Notebook y el correspondiente al TP1 - Parte 2 deben estar dentro de esa carpeta.\n",
    "- También deben completar el link de su repositorio -para que pueda ser clonado y corregido- en la siguiente google sheet: https://docs.google.com/spreadsheets/d/11nJY1Frgla45sTgsPiSeOZM9iBM-XRWh/edit?usp=sharing&ouid=105815768529474116534&rtpof=true&sd=true\n",
    "- La última versión en el repositorio es la que será evaluada. Por lo que es importante que: \n",
    "    - No completen la google sheet hasta no haber terminado y estar seguros de que han hecho el <i>commit y push</i> a la versión final que quieren entregar. Debido a que se pueden tomar hasta 3 días de extensión a lo largo del curso, no se  corregirán sus tareas hasta no ver el link en la google sheet.\n",
    "    - No hagan nuevos <i>push</i> despues de haber entregado su versión final. Esto generaría confusión acerca de que versión es la que quieren que se les corrija. "
   ]
  },
  {
   "cell_type": "markdown",
   "metadata": {
    "id": "ZXbrPraa-c9i"
   },
   "source": [
    "#### Ejercicio 1\n",
    "Este ejercicio simplemente busca repasar lo que aprendimos sobre definición de variables. Definir dos variables con un nombre combinado (al menos dos palabras), una que se pueda crear y otra que tenga un nombre inaceptable (genera error). Explicar por qué ocurre el error."
   ]
  },
  {
   "cell_type": "code",
   "execution_count": 2,
   "metadata": {
    "id": "mb7PkXfN-c9j"
   },
   "outputs": [
    {
     "name": "stdout",
     "output_type": "stream",
     "text": [
      "(0, 1, 2, 3, 4, 5, 6, 7, 8, 9)\n"
     ]
    }
   ],
   "source": [
    "# Caso A\n",
    "ejercicio_uno = 1 \n",
    "print(ejercicio_uno)\n",
    "\n",
    "# Caso B (acá debería saltar un error)\n",
    "1_ejercicio = 1\n",
    "#Esta variable no se puede crear porque empieza con un caracter correspondiente a un valor numérico\n"
   ]
  },
  {
   "cell_type": "markdown",
   "metadata": {},
   "source": [
    "#### Ejercicio 2\n",
    "Importar módulos. Usando el módulo math impriman la tangente de 1. ¿Cuál es el resultado?\n",
    "Hagan este cálculo de dos formas: primero importando el módulo math y usando la función correspondiente y luego solo importando la función específica que precisan para el cálculo."
   ]
  },
  {
   "cell_type": "code",
   "execution_count": 1,
   "metadata": {},
   "outputs": [
    {
     "name": "stdout",
     "output_type": "stream",
     "text": [
      "0.0\n",
      "0.0\n"
     ]
    }
   ],
   "source": [
    "# Caso A\n",
    "import math\n",
    "print(math.log(1))\n",
    "\n",
    "# Caso B\n",
    "from math import log\n",
    "print(log(1))"
   ]
  },
  {
   "cell_type": "markdown",
   "metadata": {
    "id": "GlNh0fyv-c9l"
   },
   "source": [
    "#### Ejercicio 3 \n",
    "Este ejercicio trata sobre lograr el intercambio de valores entre dos variables utilizando una variable temporal para hacerlo. Las variables temporales y la sustitución de valores termina siendo útil en algunos loops. Los pasos a seguir son: (a) definir variables A y B (cuyos valores buscaremos invertir); (b) definir una variable temporal que resguarde el valor de B; (c) sustitución (asignar B igual a A y también A igual al valor original de B); (d) imprimir valores para verificar."
   ]
  },
  {
   "cell_type": "code",
   "execution_count": 3,
   "metadata": {
    "id": "uWalSYFC-c9m"
   },
   "outputs": [
    {
     "name": "stdout",
     "output_type": "stream",
     "text": [
      "2\n",
      "1\n"
     ]
    }
   ],
   "source": [
    "# a) Definir variables A y B, \n",
    "a = 1\n",
    "b = 2\n",
    "\n",
    "# b) Definir variable temporal \"tmp\" igual a B (la variable, no el valor)\n",
    "tmp = b\n",
    "\n",
    "# c) Ahora sustituir variables: variable B igual a variable A (la variable, no el\n",
    "# valor) y viceversa.\n",
    "b = a\n",
    "a = tmp\n",
    "\n",
    "# d) Verifiquemos resultados: imprimir variables A y B\n",
    "\n",
    "print(a)\n",
    "print(b)"
   ]
  },
  {
   "cell_type": "markdown",
   "metadata": {
    "id": "wXhAaRyN-c9p"
   },
   "source": [
    "#### Ejercicio 4\n",
    "En este ejercicio se busca poner en práctica el uso de range() en un for loop. \n",
    "\n",
    "Construir un for loop usando un range(). El range debe ser entre los valores que quieran (con una diferencia mínima de 15 entre start y stop), en incrementos de 3 unidades. Dentro del loop, implementar una sentencia condicional que imprima una leyenda indicando si el input es par o impar."
   ]
  },
  {
   "cell_type": "code",
   "execution_count": 6,
   "metadata": {
    "id": "_oE5sG0c-c9q"
   },
   "outputs": [
    {
     "name": "stdout",
     "output_type": "stream",
     "text": [
      "1 es impar\n",
      "4 es par\n",
      "7 es impar\n",
      "10 es par\n",
      "13 es impar\n",
      "16 es par\n",
      "19 es impar\n",
      "22 es par\n"
     ]
    }
   ],
   "source": [
    "# Resolver acá\n",
    "for i in range(1, 25, 3): #Creamos un loop con incrementos de a 3 unidades que van desde el 1 hasta el 25. \n",
    "    if i % 2 == 0: #Establecemos la condición de si es divisible por dos aplique lo siguiente\n",
    "        print(i, \"es par\") #Si cumple la condición de arriba imprime el valor y la frase \"es par\"\n",
    "    else: #Si no se cumple la primera condición, se realiza lo siguiente\n",
    "        print(i, \"es impar\") #Imprime el número junto a la frase \"es impar\""
   ]
  },
  {
   "cell_type": "markdown",
   "metadata": {
    "id": "h3g5bXUB-c9u"
   },
   "source": [
    "#### Ejercicio 5\n",
    "Para practicar el uso de condiciones lógicas y la definición de funciones, construir una función con una sentencia condicional que verifique si un año es bisiesto o no. Para que un año sea bisiesto debe cumplir una de dos condiciones:\n",
    "\n",
    "(a) que sea divisible por 400; o\n",
    "\n",
    "(b) que sea divisible por 4 y no sea divisible por 100\n",
    "\n",
    "Notar que son dos condiciones, donde la segunda condición tiene dos componentes. Prueben la función con 3 valores para verificar que funcione."
   ]
  },
  {
   "cell_type": "code",
   "execution_count": 19,
   "metadata": {
    "id": "7_MnILdz-c9v"
   },
   "outputs": [
    {
     "name": "stdout",
     "output_type": "stream",
     "text": [
      "El año 2000 es bisiesto.\n",
      "El año 2020 es bisiesto.\n",
      "El año 2023 no es bisiesto.\n"
     ]
    }
   ],
   "source": [
    "# Resolver acá\n",
    "def bisiesto(year): #Definimos una función que se llama bisiesto y toma como argumento year\n",
    "    str_year = str(year) #Creamos una variable string con el valor del año\n",
    "    if year % 400 == 0: #Definimos la condición (a) para año bisiesto que implica ser divisible por 400\n",
    "        year_bisiesto_a = \"El año \" + str_year + \" es bisiesto.\" #En caso de que se cumpla, creamos una variable string que contenga el texto \"El año 'year' es bisiesto\"\n",
    "        print(year_bisiesto_a) #Imprimimos la frase\n",
    "    elif year % 4 == 0 and not (year % 100 == 0): #Definimos la condición (b) para año bisiesto que implica ser divisible por 4 y no por 100\n",
    "        year_bisiesto_b = \"El año \" + str_year + \" es bisiesto.\" #En caso de que se cumpla, creamos una variable string que contenga el texto \"El año 'year' es bisiesto\"\n",
    "        print(year_bisiesto_b) #Imprimimos la frase\n",
    "    else: #Si no se cumple la condición (a) ni (b),\n",
    "        year_no_bisiesto = \"El año \" + str_year + \" no es bisiesto.\" #Creamos una variable string que contenga la frase \"El año 'year' no es bisiesto\"\n",
    "        print(year_no_bisiesto) #Imprimimos la frase\n",
    "\n",
    "#Realizamos tres pruebas\n",
    "bisiesto(2000) #Divisible por 400\n",
    "bisiesto(2020) #Divisible por 4 pero no por 100\n",
    "bisiesto(2023) #No cumple ninguna condición para ser bisiesto"
   ]
  },
  {
   "cell_type": "code",
   "execution_count": null,
   "metadata": {},
   "outputs": [],
   "source": []
  },
  {
   "cell_type": "markdown",
   "metadata": {
    "collapsed": true,
    "id": "P3a7bJkd-c9w"
   },
   "source": [
    "#### Ejercicio 6 \n",
    "Pongamos en práctica identificar el type() de cada variable. A continuación tenemos una lista con elementos de diferentes tipos. Construyan un for loop que itere sobre la lista e imprima un cartel indicando el tipo de dato u objeto que hay en cada caso."
   ]
  },
  {
   "cell_type": "code",
   "execution_count": 21,
   "metadata": {
    "id": "jDf4d_Wr-c9w"
   },
   "outputs": [],
   "source": [
    "mi_lista = [10, 34.5, 99999, 'abc', [1,2,3], ('ARG', 1810), {'pob': 45}, True]"
   ]
  },
  {
   "cell_type": "code",
   "execution_count": 42,
   "metadata": {
    "id": "SAJgEiNEFQAS"
   },
   "outputs": [
    {
     "name": "stdout",
     "output_type": "stream",
     "text": [
      "La variable 10 es <class 'int'> .\n",
      "La variable 34.5 es <class 'float'> .\n",
      "La variable 99999 es <class 'int'> .\n",
      "La variable abc es <class 'str'> .\n",
      "La variable [1, 2, 3] es <class 'list'> .\n",
      "La variable ('ARG', 1810) es <class 'tuple'> .\n",
      "La variable {'pob': 45} es <class 'dict'> .\n",
      "La variable True es <class 'bool'> .\n"
     ]
    }
   ],
   "source": [
    "# Resolver acá\n",
    "for var in mi_lista: #Creamos un for loop que vaya por cada elemento 'var' de la lista 'mi_lista' haga lo siguiente:\n",
    "    var_type = type(var) #Cree una variable que contenga el tipo de variable en cuestión\n",
    "    print(\"La variable\", var, \"es\", var_type, \".\") #Imprima una frase que diga \"La variable 'var' es 'var_type'.\""
   ]
  },
  {
   "cell_type": "markdown",
   "metadata": {
    "id": "y1lncitl-c9x"
   },
   "source": [
    "#### Ejercicio 7\n",
    "Ahora definan ustedes una nueva lista, en la que los primeros cuatro elementos sean palabras (strings), el quinto elemento no sea string, y el sexto sea string. Construyan un for loop que corra por la lista y que imprima la palabra y la longitud de la misma. Que el loop contenga una sentencia condicional que imprima un cartel \"Elemento no es un string: < el elemento > | < class del elemento >\" para los casos dónde el elemento evaluado no sea string."
   ]
  },
  {
   "cell_type": "code",
   "execution_count": 52,
   "metadata": {
    "id": "bFOk9Os0-c9x"
   },
   "outputs": [
    {
     "name": "stdout",
     "output_type": "stream",
     "text": [
      "computadora 11\n",
      "libro 5\n",
      "casa 4\n",
      "escritorio 10\n",
      "perro 5\n",
      "Elemento no es un string:  5  |  <class 'int'>\n",
      "silla 5\n"
     ]
    }
   ],
   "source": [
    "# Resolver acá\n",
    "my_list = (\"computadora\", \"libro\", \"casa\", \"escritorio\", \"perro\", 5, \"silla\") #Creamos una lista que cumpla las condiciones de la consigna\n",
    "\n",
    "for i in my_list: #Creamos un for loop que para cada elemento 'i' de la lista 'my_list' haga lo siguiente\n",
    "    if str(type(i)) != \"<class 'str'>\": #Si cumple la condición de no ser string\n",
    "        print (\"Elemento no es un string: \", i, \" | \" , type(i)) #Imprime la frase indicando que no es un string junto con su tipo\n",
    "    else: #Si no cumple la condición anterior, es decir, es string\n",
    "        print(i, len(i)) #Imprime la palabra y la cantidad de caracteres"
   ]
  },
  {
   "cell_type": "markdown",
   "metadata": {
    "id": "PUpxDz72-c9x"
   },
   "source": [
    "#### Ejercicio 8\n",
    "Argentina tiene una representación legislativa proporcional en la cual la cantidad de diputados se debería ajustar según el tamaño de población de cada provincia. Otra característica de la representación legislativa del país es que hay una cantidad mínima de diputados por provincia (5). Esto genera un desbalance en la cantidad de ciudadanos por cada representante en el Congreso entre provincias.\n",
    "\n",
    "A continuación preparamos algunos ejemplos, dividiendo la población de cada provincia (según estimación para el 2022) por la cantidad de representantes en el Congreso para esa misma jurisdicción. También armamos el equivalente para el total país y una lista con los valores provinciales.\n",
    "\n",
    "En este ejercicio les pedimos que construyan un for loop que itere sobre el diccionario definido y compare cada valor provincial contra el valor de proporcionalidad directa (la variable argentina). El loop debe imprimir una leyenda que indique si la provincia está sobrerepresentada, subrepresentada o con representación proporcional. Además, queremos que el mismo loop compare los valores de las provincias sobrerepresentadas y que guarde el valor de la provincia con mayor sobrerepresentación. Luego del loop impriman este valor así podemos ver que haya funcionado.\n",
    "\n",
    "Fuente para población: https://es.wikipedia.org/wiki/Demograf%C3%ADa_de_Argentina\n",
    "\n",
    "Fuente para representantes: https://es.wikipedia.org/wiki/C%C3%A1mara_de_Diputados_de_la_Naci%C3%B3n_Argentina"
   ]
  },
  {
   "cell_type": "code",
   "execution_count": 2,
   "metadata": {
    "id": "hd8Z5AHs-c9y"
   },
   "outputs": [],
   "source": [
    "# Valor de referencia: proporcionalidad\n",
    "argentina = 46044703 / 257\n",
    "\n",
    "# Creamos variables para una selección de jurisdicciones\n",
    "cordoba = 3978984 / 18\n",
    "santa_fe = 3556522 / 19\n",
    "mendoza = 2014533 / 10\n",
    "buenos_aires = 17569053 / 70\n",
    "entre_rios =  1426426/ 9\n",
    "santa_cruz = 333473 / 5\n",
    "formosa = 606041 / 5\n",
    "\n",
    "# Definimos el diccionario para iterar\n",
    "dict_provincias = {\n",
    "    \"Córdoba\": cordoba,\n",
    "    \"Santa Fe\": santa_fe,\n",
    "    \"Mendoza\": mendoza,\n",
    "    \"Buenos Aires\": buenos_aires,\n",
    "    \"Entre Ríos\": entre_rios,\n",
    "    \"Santa Cruz\": santa_cruz,\n",
    "    \"Formosa\": formosa\n",
    "}"
   ]
  },
  {
   "cell_type": "code",
   "execution_count": 9,
   "metadata": {
    "id": "fsEHnxiY-c9y",
    "scrolled": true
   },
   "outputs": [
    {
     "name": "stdout",
     "output_type": "stream",
     "text": [
      "La provincia Córdoba está subrerepresentada\n",
      "La provincia Santa Fe está subrerepresentada\n",
      "La provincia Mendoza está subrerepresentada\n",
      "La provincia Buenos Aires está subrerepresentada\n",
      "La provincia Entre Ríos está sobrerepresentada\n",
      "La provincia Santa Cruz está sobrerepresentada\n",
      "La provincia Formosa está sobrerepresentada\n",
      "Santa Cruz 66694.6\n"
     ]
    }
   ],
   "source": [
    "# Resolver acá\n",
    "proporcionalidad_mayor = 1000000000 #Creamos una variable donde almacenaremos la proporción de la provincia más sobrerepresentada, conteniendo un número de subrepresentanción muy grande para poder iniciar\n",
    "provincia_mayor = \"\" #Creamos una variable donde almacenaremos el nombre de la provincia más sobrerepresentada\n",
    "\n",
    "for prov in dict_provincias: #Creamos un for loop que recorra cada provincia 'prov' del diccionario de provincias 'dict_provincias'\n",
    "    if dict_provincias[prov] > argentina: #Creamos una condición en la que si la provincia tiene más personas por habitante que lo proporcional para el país,haga lo siguiente\n",
    "        sub = \"La provincia \" + prov + \" está subrerepresentada\" #Creamos una variable string con la frase \"La provincia 'prov' está subrepresentada\"\n",
    "        print(sub) #Imprimimos la frase\n",
    "    elif dict_provincias[prov] < argentina: #Creamos otra condición en la que la provincia tiene menos habitantes por diputado que lo que fuera proporcional para el país, en cuyo caso hace lo siguiente\n",
    "        sob = \"La provincia \" + prov + \" está sobrerepresentada\" #Crea la frase \"La provincia 'prov' está sobrerepresentada\"\n",
    "        print(sob) #Imprimimos la provincia\n",
    "        if dict_provincias[prov] < proporcionalidad_mayor: #Dentro de esta condición, creamos otra que compare el valor de las provincias con el de la más sobrerepresentada. Si es más chico, es decir, está más sobrerepresentado, hace lo siguiente\n",
    "            proporcionalidad_mayor = dict_provincias[prov] #Reemplaza el valor de la más sobrerepresentada por la provincia bajo análisis\n",
    "            provincia_mayor = prov #Reemplaza el valor de la provincia más sobrerepresentada\n",
    "    else: #Si no cumple ninguna de lass otras dos condiciones, es decir, está representada proporcionalmente, hace lo siguiente\n",
    "        fair = \"La provincia \" + prov + \" está representada proporcionalmente\" #Crea la frase \"La provincia 'prov' está representada proporcionalmente\"\n",
    "        print(fair) #Imprimimos la frase\n",
    "\n",
    "print(provincia_mayor,proporcionalidad_mayor) #Imprimimos la provincia más sobrerepresentada y la proporción que le corresponde\n"
   ]
  },
  {
   "cell_type": "code",
   "execution_count": null,
   "metadata": {},
   "outputs": [],
   "source": []
  },
  {
   "cell_type": "markdown",
   "metadata": {
    "id": "GokZe5tV-c9z"
   },
   "source": [
    "#### Ejercicio 9\n",
    "Si buscáramos minimizar la subrepresentación de la provincia de Buenos Aires, ¿cuántos representantes debería tener según el Censo 2022? Usemos el mismo criterio de sub/sobrerepresentacion que en el ejercicio anterior: población sobre cantidad de representantes.\n",
    "\n",
    "Para responder esta pregunta construyan un while loop que incremente de a uno la cantidad de representantes de la Provincia hasta minimizar la subrepresentación. En cada iteración impriman un cartel que diga: \"Se agregó un representante, el total ahora es X\" dónde X es el número de representantes simulado."
   ]
  },
  {
   "cell_type": "code",
   "execution_count": 11,
   "metadata": {
    "id": "x9DvuXa_-c9z"
   },
   "outputs": [],
   "source": [
    "# Estos son los valores de la provincia\n",
    "representantes_pba = 70\n",
    "poblacion2010_pba = 17594428\n",
    "\n",
    "\n",
    "# Y el valor de referencia nacional\n",
    "argentina = 46044703 / 257\n"
   ]
  },
  {
   "cell_type": "code",
   "execution_count": 12,
   "metadata": {},
   "outputs": [
    {
     "name": "stdout",
     "output_type": "stream",
     "text": [
      "Se agregó un representante, el total ahora es 71\n",
      "Se agregó un representante, el total ahora es 72\n",
      "Se agregó un representante, el total ahora es 73\n",
      "Se agregó un representante, el total ahora es 74\n",
      "Se agregó un representante, el total ahora es 75\n",
      "Se agregó un representante, el total ahora es 76\n",
      "Se agregó un representante, el total ahora es 77\n",
      "Se agregó un representante, el total ahora es 78\n",
      "Se agregó un representante, el total ahora es 79\n",
      "Se agregó un representante, el total ahora es 80\n",
      "Se agregó un representante, el total ahora es 81\n",
      "Se agregó un representante, el total ahora es 82\n",
      "Se agregó un representante, el total ahora es 83\n",
      "Se agregó un representante, el total ahora es 84\n",
      "Se agregó un representante, el total ahora es 85\n",
      "Se agregó un representante, el total ahora es 86\n",
      "Se agregó un representante, el total ahora es 87\n",
      "Se agregó un representante, el total ahora es 88\n",
      "Se agregó un representante, el total ahora es 89\n",
      "Se agregó un representante, el total ahora es 90\n",
      "Se agregó un representante, el total ahora es 91\n",
      "Se agregó un representante, el total ahora es 92\n",
      "Se agregó un representante, el total ahora es 93\n",
      "Se agregó un representante, el total ahora es 94\n",
      "Se agregó un representante, el total ahora es 95\n",
      "Se agregó un representante, el total ahora es 96\n",
      "Se agregó un representante, el total ahora es 97\n",
      "Se agregó un representante, el total ahora es 98\n",
      "Se agregó un representante, el total ahora es 99\n",
      "La cantidad de representantes que minimiza la subrepresentación de la provincia de Buenos Aires es  99\n"
     ]
    }
   ],
   "source": [
    "# Resolver acá\n",
    "while poblacion2010_pba/representantes_pba > argentina: #Hacemos un while que mientras la población por representante supere a la de proporcional para argentina haga lo siguiente: \n",
    "    representantes_pba = representantes_pba + 1 #A la cantidad de representantes de buenos aires le suma uno\n",
    "    print(\"Se agregó un representante, el total ahora es\", representantes_pba) #Imprime el texto indicando que se agregó el representante y cuál es la cantidad total al momento de agregar\n",
    "\n",
    "print(\"La cantidad de representantes que minimiza la subrepresentación de la provincia de Buenos Aires es \", representantes_pba) #Imprimimos la cantidad de representantes que minimiza la subrepresentación de Buenos Aires"
   ]
  },
  {
   "cell_type": "markdown",
   "metadata": {},
   "source": [
    "#### Ejercicio 10\n",
    "Construyan una función llamada suma que tome una cantidad variable de parámetros y devuelva el resultado de la suma."
   ]
  },
  {
   "cell_type": "code",
   "execution_count": 15,
   "metadata": {},
   "outputs": [
    {
     "name": "stdout",
     "output_type": "stream",
     "text": [
      "10\n",
      "18\n",
      "17\n",
      "10\n"
     ]
    }
   ],
   "source": [
    "# Resolver acá\n",
    "def suma(*sumandos): #Creamos una función suma con una cantidad indeterminada de argumentos llamados sumandos\n",
    "    resultado = 0 #Partimos de un resultado igual a cero\n",
    "    for x in sumandos: #Creamos un for loop en el que a cada recorra todos los sumandos y haga lo siguiente\n",
    "        resultado = resultado + x #Al resultado anterior el suma el valor del sumando\n",
    "    return(resultado) #Devuelve el resultado vinal\n",
    "\n",
    "#Probamos la función con diferentes argumentos\n",
    "print(suma(1,2,3,4))\n",
    "print(suma(5,6,7))\n",
    "print(suma(8,9))\n",
    "print(suma(10))\n"
   ]
  }
 ],
 "metadata": {
  "anaconda-cloud": {},
  "colab": {
   "name": "TP1 - Parte 1.ipynb",
   "provenance": []
  },
  "kernelspec": {
   "display_name": "Python 3 (ipykernel)",
   "language": "python",
   "name": "python3"
  },
  "language_info": {
   "codemirror_mode": {
    "name": "ipython",
    "version": 3
   },
   "file_extension": ".py",
   "mimetype": "text/x-python",
   "name": "python",
   "nbconvert_exporter": "python",
   "pygments_lexer": "ipython3",
   "version": "3.11.4"
  }
 },
 "nbformat": 4,
 "nbformat_minor": 1
}
