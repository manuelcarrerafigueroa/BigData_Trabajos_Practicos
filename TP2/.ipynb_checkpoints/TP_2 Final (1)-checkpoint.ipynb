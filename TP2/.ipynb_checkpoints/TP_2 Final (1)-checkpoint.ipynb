{
 "cells": [
  {
   "cell_type": "markdown",
   "id": "c1dfed33",
   "metadata": {},
   "source": [
    "# TP 2 - Big Data"
   ]
  },
  {
   "cell_type": "markdown",
   "id": "92db39a4",
   "metadata": {},
   "source": [
    "## Parte I"
   ]
  },
  {
   "cell_type": "code",
   "execution_count": 1,
   "id": "193dbf40",
   "metadata": {},
   "outputs": [
    {
     "name": "stdout",
     "output_type": "stream",
     "text": [
      "Defaulting to user installation because normal site-packages is not writeable\n",
      "Requirement already satisfied: pandas in c:\\programdata\\anaconda3\\lib\\site-packages (2.1.1)\n",
      "Requirement already satisfied: numpy>=1.23.2 in c:\\programdata\\anaconda3\\lib\\site-packages (from pandas) (1.24.3)\n",
      "Requirement already satisfied: python-dateutil>=2.8.2 in c:\\programdata\\anaconda3\\lib\\site-packages (from pandas) (2.8.2)\n",
      "Requirement already satisfied: pytz>=2020.1 in c:\\programdata\\anaconda3\\lib\\site-packages (from pandas) (2023.3.post1)\n",
      "Requirement already satisfied: tzdata>=2022.1 in c:\\programdata\\anaconda3\\lib\\site-packages (from pandas) (2023.3)\n",
      "Requirement already satisfied: six>=1.5 in c:\\programdata\\anaconda3\\lib\\site-packages (from python-dateutil>=2.8.2->pandas) (1.16.0)\n"
     ]
    },
    {
     "name": "stderr",
     "output_type": "stream",
     "text": [
      "DEPRECATION: Loading egg at c:\\programdata\\anaconda3\\lib\\site-packages\\frozendict-2.3.0-py3.10.egg is deprecated. pip 24.3 will enforce this behaviour change. A possible replacement is to use pip for package installation.. Discussion can be found at https://github.com/pypa/pip/issues/12330\n"
     ]
    }
   ],
   "source": [
    "#Instalamos e importamos pandas para abrir la base de datos\n",
    "import sys\n",
    "!{sys.executable} -m pip install pandas\n",
    "import pandas as pd "
   ]
  },
  {
   "cell_type": "code",
   "execution_count": 2,
   "id": "21c76a28",
   "metadata": {},
   "outputs": [
    {
     "name": "stdout",
     "output_type": "stream",
     "text": [
      "C:\\Users\\manue\\OneDrive\\Escritorio\\UdeSA\\Materias\\Quinto Año\\Semestre de Primavera\\Big Data\\BigData_Trabajos_Practicos\\TP2\n"
     ]
    }
   ],
   "source": [
    "#Verificamos directorio\n",
    "import os\n",
    "print(os.getcwd())"
   ]
  },
  {
   "cell_type": "code",
   "execution_count": null,
   "id": "977c0c37",
   "metadata": {},
   "outputs": [],
   "source": [
    "#Abrimos la base de datos y la guardamos en un data frame\n",
    "EPH_2023_1=pd.read_excel(\"usu_individual_T123.xlsx\")"
   ]
  },
  {
   "cell_type": "code",
   "execution_count": null,
   "id": "cf8f2347",
   "metadata": {},
   "outputs": [],
   "source": [
    "#Visualizamos la base de datos para comprender su estructura\n",
    "EPH_2023_1"
   ]
  },
  {
   "cell_type": "markdown",
   "id": "03e80e97",
   "metadata": {},
   "source": [
    "#### Ejercicio 2\n",
    "#### Inciso (a)"
   ]
  },
  {
   "cell_type": "code",
   "execution_count": null,
   "id": "f112685d",
   "metadata": {},
   "outputs": [],
   "source": [
    "#Eliminamos filas pertenecientes a hogares que no son de GBA o CABA\n",
    "#CABA = 32\n",
    "#GBA = 33\n",
    "EPH_2023_1 = EPH_2023_1.drop(EPH_2023_1[(EPH_2023_1[\"AGLOMERADO\"] != 32) & (EPH_2023_1[\"AGLOMERADO\"] != 33)].index)"
   ]
  },
  {
   "cell_type": "markdown",
   "id": "d33e1503",
   "metadata": {},
   "source": [
    "#### Inciso (b)"
   ]
  },
  {
   "cell_type": "code",
   "execution_count": null,
   "id": "bf1264bd",
   "metadata": {},
   "outputs": [],
   "source": [
    "#Eliminamos filas con valores sin sentido\n",
    "\n",
    "#Eliminamos valores de EDADES (CH06) menores que 0\n",
    "EPH_2023_1 = EPH_2023_1.drop(EPH_2023_1[EPH_2023_1[\"CH06\"] < 0].index)\n",
    "\n",
    "#Eliminamos valores de TIPO DE UNION (CH07) igual a 9 \n",
    "EPH_2023_1 = EPH_2023_1.drop(EPH_2023_1[EPH_2023_1[\"CH07\"] == 9].index)\n",
    "\n",
    "#Eliminamos valores de INGRESOS (P47T) menores que 0\n",
    "EPH_2023_1 = EPH_2023_1.drop(EPH_2023_1[EPH_2023_1[\"P47T\"] < 0].index)\n",
    "\n",
    "#Eliminamos valores de INGRESOS TOTALES FAMILIARES(ITF) menores que 0\n",
    "EPH_2023_1 = EPH_2023_1.drop(EPH_2023_1[EPH_2023_1[\"ITF\"] < 0].index)\n",
    "\n",
    "#Eliminaríamos valores de HORAS TRABAJADAS (PP3E_TOT) mayores que 126. \n",
    "#Trabajar más de 126 horas semanales implica trabajar más de 18 diarias\n",
    "#EPH_2023_1 = EPH_2023_1.drop(EPH_2023_1[EPH_2023_1[\"PP3E_TOT\"] == 999].index)\n",
    "#EPH_2023_1 = EPH_2023_1.drop(EPH_2023_1[EPH_2023_1[\"PP3E_TOT\"] == 168].index)\n",
    "#EPH_2023_1 = EPH_2023_1.drop(EPH_2023_1[EPH_2023_1[\"PP3E_TOT\"] == 147].index)\n",
    "\n",
    "#Eliminaríamos valores de DECILES (DECCFR) mayores que 10. \n",
    "#EPH_2023_1 = EPH_2023_1.drop(EPH_2023_1[EPH_2023_1[\"DECCFR\"] > 10].index)"
   ]
  },
  {
   "cell_type": "markdown",
   "id": "b7d7c84b",
   "metadata": {},
   "source": [
    "#### Inciso (c)"
   ]
  },
  {
   "cell_type": "code",
   "execution_count": null,
   "id": "71a253fe",
   "metadata": {},
   "outputs": [],
   "source": [
    "#Importamos Matplotlib\n",
    "import matplotlib.pyplot as plt"
   ]
  },
  {
   "cell_type": "code",
   "execution_count": null,
   "id": "57eb4782",
   "metadata": {},
   "outputs": [],
   "source": [
    "#Visualizamos la columna de sexo\n",
    "EPH_2023_1[\"CH04\"]"
   ]
  },
  {
   "cell_type": "code",
   "execution_count": null,
   "id": "30b4844e",
   "metadata": {},
   "outputs": [],
   "source": [
    "# Contamos la cantidad de mujeres y varones\n",
    "cant_mujeresyhombres = EPH_2023_1['CH04'].value_counts()\n",
    "cant_mujeres = (EPH_2023_1['CH04']==2).sum()\n",
    "cant_hombres = (EPH_2023_1['CH04']==1).sum()\n",
    "\n",
    "#Calculamos las proporciones correspondientes a cada uno\n",
    "prop_mujeres = cant_mujeres/len(EPH_2023_1['CH04'])\n",
    "prop_hombres = cant_hombres/len(EPH_2023_1['CH04'])\n",
    "\n",
    "#Imprimimos los resultados\n",
    "print(\"Cantidad de mujeres \", cant_mujeres, \" | Proporción\", prop_mujeres)\n",
    "print(\"Cantidad de hombres \", cant_hombres, \" | Proporción\", prop_hombres)\n"
   ]
  },
  {
   "cell_type": "code",
   "execution_count": null,
   "id": "43fa3fe2",
   "metadata": {},
   "outputs": [],
   "source": [
    "# Creamos un gráfico de barras\n",
    "graph_1c = cant_mujeresyhombres.plot(kind='bar', title='Composición de la EPH por Sexo', color=['red', 'blue'])\n",
    "graph_1c.set_xlabel(\"Sexo\", color='grey')\n",
    "graph_1c.set_xticklabels([\"Mujeres\", \"Varones\"])\n",
    "graph_1c.set_ylabel(\"Cantidad\", color='grey')"
   ]
  },
  {
   "cell_type": "markdown",
   "id": "72068ba3",
   "metadata": {},
   "source": [
    " #### Inciso (d)"
   ]
  },
  {
   "cell_type": "code",
   "execution_count": null,
   "id": "70cd00e0",
   "metadata": {},
   "outputs": [],
   "source": [
    "#Calculamos las correlaciones\n",
    "corr = EPH_2023_1[[\"CH04\", \"CH07\", \"CH08\", \"NIVEL_ED\", \"ESTADO\", \"CAT_INAC\", \"IPCF\"]].corr()\n",
    "corr"
   ]
  },
  {
   "cell_type": "code",
   "execution_count": null,
   "id": "f525f43a",
   "metadata": {},
   "outputs": [],
   "source": [
    "#Importamos la librería seaborn\n",
    "import seaborn as sns"
   ]
  },
  {
   "cell_type": "code",
   "execution_count": null,
   "id": "bbeff087",
   "metadata": {},
   "outputs": [],
   "source": [
    "#Creamos el mapa de calor\n",
    "sns.heatmap(corr, vmin=-1, vmax=+1, annot=True, cmap=\"coolwarm\")\n"
   ]
  },
  {
   "cell_type": "markdown",
   "id": "3b4fc0c6",
   "metadata": {},
   "source": [
    "#### Inciso (e)"
   ]
  },
  {
   "cell_type": "code",
   "execution_count": null,
   "id": "94810e14",
   "metadata": {},
   "outputs": [],
   "source": [
    "# Partiendo del data frame anterior, agrupamos por estado (muesta ocupación, desempleo, etc.) y calculamos la cantidad en cada uno y el ingreso medio por grupo\n",
    "ESTADO_IPCF = EPH_2023_1.groupby(by=[\"ESTADO\"]).agg({\"ESTADO\":\"count\",\"IPCF\":\"mean\"})\n",
    "\n",
    "# Los resultados que obtenemos son\n",
    "ESTADO_IPCF"
   ]
  },
  {
   "cell_type": "code",
   "execution_count": null,
   "id": "45780e25",
   "metadata": {},
   "outputs": [],
   "source": [
    "#Calculamos las proporciones correspondientes a cada uno\n",
    "cant_DESOCUPADOS = (EPH_2023_1['ESTADO']==2).sum()\n",
    "cant_INACTIVOS = (EPH_2023_1['ESTADO']==3).sum()\n",
    "prop_DESOCUPADOS = cant_DESOCUPADOS/len(EPH_2023_1['ESTADO'])\n",
    "prop_INACTIVOS= cant_INACTIVOS/len(EPH_2023_1['ESTADO'])\n",
    "\n",
    "print(prop_DESOCUPADOS)\n",
    "print(prop_INACTIVOS)"
   ]
  },
  {
   "cell_type": "markdown",
   "id": "820d6f2f",
   "metadata": {},
   "source": [
    "#### Inciso (f)"
   ]
  },
  {
   "cell_type": "code",
   "execution_count": null,
   "id": "26311182",
   "metadata": {},
   "outputs": [],
   "source": [
    "#Creamos una nueva columna donde agregamos un string de texto que contenga las comibinación de sexo y edad\n",
    "EPH_2023_1[\"sexo_edad\"] = EPH_2023_1[\"CH04\"].astype(str) + \"_\" + EPH_2023_1[\"CH06\"].astype(str)\n"
   ]
  },
  {
   "cell_type": "code",
   "execution_count": null,
   "id": "9897172e",
   "metadata": {},
   "outputs": [],
   "source": [
    "EPH_2023_1"
   ]
  },
  {
   "cell_type": "code",
   "execution_count": null,
   "id": "16091e3c",
   "metadata": {},
   "outputs": [],
   "source": [
    "#Creamos las variables sexo y edad que pueden tomar cada uno de los valores posibles y \n",
    "#luego generamos todas las combinaciones posibles de sexo-edad\n",
    "sexo = pd.Series([1, 2])\n",
    "edad = pd.Series(range(104))\n",
    "sexo_edad=[]\n",
    "for i in sexo:\n",
    "    for j in edad:\n",
    "        sexo_edad.append(f\"{i}_{j}\")\n",
    "sexo_edad\n",
    "\n",
    "#Creamos un dataframe llamado Valores que tendrá las combinaciones posibles de sexo-edad\n",
    "Valores=pd.DataFrame({'sexo_edad':sexo_edad})\n",
    "\n",
    "#Creamos un vector con los valores de equivalencias respetando el orden del diccionario anterior\n",
    "adulto_equiv= [0.35,\t 0.37,\t 0.46,\t 0.51,\t 0.55,\t 0.6,\t 0.64,\t 0.66,\t 0.68,\t \n",
    "              0.69,\t 0.79,\t 0.82,\t 0.85,\t 0.9,\t 0.96,\t 1.0,\t 1.03,\t 1.04,\t \n",
    "              1.02,\t 1.02,\t 1.02,\t 1.02,\t 1.02,\t 1.02,\t 1.02,\t 1.02,\t 1.02,\t \n",
    "              1.02,\t 1.02,\t 1.02,\t 1.1,\t 1.1,\t 1.1,\t 1.1,\t 1.1,\t 1.1,\t \n",
    "              1.1,\t 1.1,\t 1.1,\t 1.1,\t 1.1,\t 1.1,\t 1.1,\t 1.1,\t 1.1,\t \n",
    "              1.1,\t 1.1,\t 1.1,\t 1.1,\t 1.1,\t 1.1,\t 1.1,\t 1.1,\t 1.1,\t \n",
    "              1.1,\t 1.1,\t 1.1,\t 1.1,\t 1.1,\t 1.1,\t 1.1,\t 0.83,\t 0.83,\t \n",
    "              0.83,\t 0.83,\t 0.83,\t 0.83,\t 0.83,\t 0.83,\t 0.83,\t 0.83,\t 0.83,\t \n",
    "              0.83,\t 0.83,\t 0.83,\t 0.83,\t 0.74,\t 0.74,\t 0.74,\t 0.74,\t 0.74,\t \n",
    "              0.74,\t 0.74,\t 0.74,\t 0.74,\t 0.74,\t 0.74,\t 0.74,\t 0.74,\t 0.74,\t \n",
    "              0.74,\t 0.74,\t 0.74,\t 0.74,\t 0.74,\t 0.74,\t 0.74,\t 0.74,\t 0.74,\t \n",
    "              0.74,\t 0.74,\t 0.74,\t 0.74,\t 0.74,\t 0.35,\t 0.37,\t 0.46,\t 0.51,\t \n",
    "              0.55,\t 0.60,\t 0.64,\t 0.66,\t 0.68,\t 0.69,\t 0.70,\t 0.72,\t 0.74,\t \n",
    "              0.76,\t 0.76,\t 0.77,\t 0.77,\t 0.77,\t 0.76,\t 0.76,\t 0.76,\t 0.76,\t\n",
    "              0.76,\t 0.76,\t 0.76,\t 0.76,\t 0.76,\t 0.76,\t 0.76,\t 0.76,\t 0.77,\t \n",
    "              0.77,\t 0.77,\t 0.77,\t 0.77,\t 0.77,\t 0.77,\t 0.77,\t 0.77,\t 0.77,\t \n",
    "              0.77,\t 0.77,\t 0.77,\t 0.77,\t 0.77,\t 0.77,\t 0.76,\t 0.76,\t 0.76,\t \n",
    "              0.76,\t 0.76,\t 0.76,\t 0.76,\t 0.76,\t 0.76,\t 0.76,\t 0.76,\t 0.76,\t\n",
    "              0.76,\t 0.76,\t 0.76,\t 0.67,\t 0.67,\t 0.67,\t 0.67,\t 0.67,\t 0.67,\t \n",
    "              0.67,\t 0.67,\t 0.67,\t 0.67,\t 0.67,\t 0.67,\t 0.67,\t 0.67,\t 0.67,\t \n",
    "              0.63,\t 0.63,\t 0.63,\t 0.63,\t 0.63,\t 0.63,\t 0.63,\t 0.63,\t 0.63,\t \n",
    "              0.63,\t 0.63,\t 0.63,\t 0.63,\t 0.63,\t 0.63,\t 0.63,\t 0.63,\t 0.63,\t\n",
    "              0.63,\t 0.63,\t 0.63,\t 0.63,\t 0.63,\t 0.63,\t 0.63,\t 0.63,\t 0.63,\t 0.63]\n",
    "\n",
    "#Agregamos a nuestro dataframe dichas equivalencias\n",
    "Valores[\"adulto_equiv\"]=adulto_equiv\n"
   ]
  },
  {
   "cell_type": "code",
   "execution_count": null,
   "id": "8d21e5a8",
   "metadata": {},
   "outputs": [],
   "source": [
    "#Visualizamos nuestro data frame con las equivalencias por sexo-edad\n",
    "Valores"
   ]
  },
  {
   "cell_type": "code",
   "execution_count": null,
   "id": "8220a40b",
   "metadata": {},
   "outputs": [],
   "source": [
    "#Agregamos nuestro dataframe valores a la EPH, uniendolas por el valor común sexo_edad y agregando así la variable adulto_equiv\n",
    "EPH_2023_1_Extendida=EPH_2023_1.merge(Valores, how=\"left\")"
   ]
  },
  {
   "cell_type": "code",
   "execution_count": null,
   "id": "fccc713d",
   "metadata": {},
   "outputs": [],
   "source": [
    "#Visualizamos como quedó extendida nuestra base de datos\n",
    "EPH_2023_1_Extendida"
   ]
  },
  {
   "cell_type": "code",
   "execution_count": null,
   "id": "7412e8c5",
   "metadata": {
    "scrolled": true
   },
   "outputs": [],
   "source": [
    "#A continuación sumamos el valor de equivalencia sexo-edad para cada uno de los hogares y lo almacenamos en una nueva variable que llamamos ad_equiv_hogar\n",
    "ad_equiv_hogar = EPH_2023_1_Extendida.groupby(by=\"CODUSU\").agg({\"adulto_equiv\":\"sum\"}).reset_index()\n",
    "ad_equiv_hogar = ad_equiv_hogar.rename(columns={\"adulto_equiv\": \"ad_equiv_hogar\"})\n"
   ]
  },
  {
   "cell_type": "code",
   "execution_count": null,
   "id": "d728f057",
   "metadata": {},
   "outputs": [],
   "source": [
    "#Visualizamos el resultado de esta nueva variable\n",
    "ad_equiv_hogar"
   ]
  },
  {
   "cell_type": "code",
   "execution_count": null,
   "id": "d1358947",
   "metadata": {},
   "outputs": [],
   "source": [
    "#Nuevamente, agregamos esta nueva variable al dataframe anterior combinando por numero de hogar\n",
    "EPH_TP2 = EPH_2023_1_Extendida.merge(ad_equiv_hogar, how=\"left\")"
   ]
  },
  {
   "cell_type": "code",
   "execution_count": null,
   "id": "df166627",
   "metadata": {},
   "outputs": [],
   "source": [
    "#Visualizamos nuestra base de datos final\n",
    "EPH_TP2"
   ]
  },
  {
   "cell_type": "markdown",
   "id": "cd9f0ce7",
   "metadata": {},
   "source": [
    "#### Ejercicio 3"
   ]
  },
  {
   "cell_type": "code",
   "execution_count": null,
   "id": "793d9e25",
   "metadata": {},
   "outputs": [],
   "source": [
    "#Creamos un nuevo dataframe que contiene a todos aquellos que respondieron la pregunta respecto a sus ingresos totales\n",
    "respondieron= EPH_TP2[EPH_TP2[\"ITF\"]!=0]\n",
    "\n",
    "#Calculamos la cantidad de observaciones que cumplen con este requisito\n",
    "print(len(respondieron))"
   ]
  },
  {
   "cell_type": "code",
   "execution_count": null,
   "id": "704ef76f",
   "metadata": {},
   "outputs": [],
   "source": [
    "#Para controlar verificamos el valor mínimo del detaframe y observamos que es mayor a cero\n",
    "respondieron['ITF'].min()"
   ]
  },
  {
   "cell_type": "code",
   "execution_count": null,
   "id": "c30ea5ff",
   "metadata": {},
   "outputs": [],
   "source": [
    "#Creamos un nuevo dataframe con aquellos que nos respondieron sobre sus ingresos totales\n",
    "norespondieron= EPH_TP2[EPH_TP2[\"ITF\"]==0]\n",
    "\n",
    "#Imprimimos la cantidad de observaciones para controlar cuántas corresponden a este grupo\n",
    "print(len(norespondieron))"
   ]
  },
  {
   "cell_type": "code",
   "execution_count": null,
   "id": "7a74a4ae",
   "metadata": {},
   "outputs": [],
   "source": [
    "#Nuevamente, como control, calculamos la suma de ingresos totales y verificamos que no sea distinta de cero\n",
    "norespondieron['ITF'].sum()"
   ]
  },
  {
   "cell_type": "code",
   "execution_count": null,
   "id": "af315d67",
   "metadata": {},
   "outputs": [],
   "source": [
    "#Calculamos las proporciones de norespondieron sobre el total\n",
    "cant_norespondieron = len(norespondieron)\n",
    "prop_norespondieron = cant_norespondieron/(len(norespondieron)+len(respondieron))\n",
    "\n",
    "print(prop_norespondieron)\n"
   ]
  },
  {
   "cell_type": "markdown",
   "id": "c7ee56df",
   "metadata": {},
   "source": [
    "#### Ejercicio 4"
   ]
  },
  {
   "cell_type": "code",
   "execution_count": null,
   "id": "b8d40d56",
   "metadata": {},
   "outputs": [],
   "source": [
    "#Calculamos el ingreso necesario para no ser pobre por hogar multiplicando la cantidad de ingreso por persona necesario por la el equivalente de personas según sexo y edad\n",
    "respondieron.loc[:, \"ingreso_necesario\"] = 57371.05 * respondieron.loc[:, \"ad_equiv_hogar\"]"
   ]
  },
  {
   "cell_type": "code",
   "execution_count": null,
   "id": "7203561d",
   "metadata": {},
   "outputs": [],
   "source": [
    "#Visualizamos el resultado obtenido\n",
    "respondieron"
   ]
  },
  {
   "cell_type": "markdown",
   "id": "ff7b9298",
   "metadata": {},
   "source": [
    "#### Ejercicio 5"
   ]
  },
  {
   "cell_type": "code",
   "execution_count": null,
   "id": "2ba0a35c",
   "metadata": {},
   "outputs": [],
   "source": [
    "#Creamos una función que clasifique a pobres en función a la  relación entre ingreso total reportado y el necesario\n",
    "def clasificar_pobreza(row):\n",
    "    if row[\"ITF\"] < row[\"ingreso_necesario\"]:\n",
    "        pobre = 1\n",
    "    else:\n",
    "        pobre = 0\n",
    "    return pobre"
   ]
  },
  {
   "cell_type": "code",
   "execution_count": null,
   "id": "87b27171",
   "metadata": {},
   "outputs": [],
   "source": [
    "#Aplicamos la función a nuestro dataframe y visualizamos los resultados\n",
    "respondieron['pobre'] = respondieron.apply(clasificar_pobreza, axis=1)\n",
    "respondieron"
   ]
  },
  {
   "cell_type": "code",
   "execution_count": null,
   "id": "3beb85ec",
   "metadata": {},
   "outputs": [],
   "source": [
    "#Visualizamos las columnas de ingresos totales, necesarios y clasificación para observar los resultados de forma más clara\n",
    "respondieron[[\"ITF\",\"ingreso_necesario\", \"pobre\"]]"
   ]
  },
  {
   "cell_type": "code",
   "execution_count": null,
   "id": "e2b3a6a9",
   "metadata": {},
   "outputs": [],
   "source": [
    "#Calculamos la cantidad de pobres\n",
    "pobres = (respondieron['pobre'] == 1).sum()\n",
    "print(pobres)\n",
    "\n",
    "prop_pobres=pobres/len(respondieron)\n",
    "print(prop_pobres)"
   ]
  },
  {
   "cell_type": "markdown",
   "id": "a62b9a64",
   "metadata": {},
   "source": [
    "## Parte II: Clasificación"
   ]
  },
  {
   "cell_type": "markdown",
   "id": "f34d5e3e",
   "metadata": {},
   "source": [
    "#### Ejercicio 1"
   ]
  },
  {
   "cell_type": "code",
   "execution_count": null,
   "id": "25f88a02",
   "metadata": {},
   "outputs": [],
   "source": [
    "#Eliminamos variables de \"Ingresos de la ocupacion principal de los asalariados\"\n",
    "respondieron.drop([\"PP08D1\", \"PP08D4\", \"PP08F1\", \"PP08F2\", \"PP08J1\", \"PP08J2\", \"PP08J3\"], axis=1, inplace = True)\n",
    "norespondieron.drop([\"PP08D1\", \"PP08D4\", \"PP08F1\", \"PP08F2\", \"PP08J1\", \"PP08J2\", \"PP08J3\"], axis=1, inplace = True)\n",
    "\n",
    "#Eliminamos variables de \"Ingresos de la ocupacion principal\"\n",
    "respondieron.drop([\"P21\", \"DECOCUR\", \"IDECOCUR\", \"RDECOCUR\", \"GDECOCUR\", \"PDECOCUR\", \"ADECOCUR\", \"PONDIIO\"], axis=1, inplace = True)\n",
    "norespondieron.drop([\"P21\", \"DECOCUR\", \"IDECOCUR\", \"RDECOCUR\", \"GDECOCUR\", \"PDECOCUR\", \"ADECOCUR\", \"PONDIIO\"], axis=1, inplace = True)\n",
    "\n",
    "#Eliminamos variables de \"Ingresos de otras ocupaciones\"\n",
    "respondieron.drop([\"TOT_P12\"], axis=1, inplace = True)\n",
    "norespondieron.drop([\"TOT_P12\"], axis=1, inplace = True)\n",
    "\n",
    "#Eliminamos variables de \"Ingreso total individual\"\n",
    "respondieron.drop([\"P47T\", \"DECINDR\", \"IDECINDR\", \"RDECINDR\", \"GDECINDR\", \"PDECINDR\", \"ADECINDR\", \"PONDII\"], axis=1, inplace = True)\n",
    "norespondieron.drop([\"P47T\", \"DECINDR\", \"IDECINDR\", \"RDECINDR\", \"GDECINDR\", \"PDECINDR\", \"ADECINDR\", \"PONDII\"], axis=1, inplace = True)\n",
    "\n",
    "#Eliminamos variables de \"Ingresos no laborales\"\n",
    "respondieron.drop([\"V2_M\", \"V3_M\", \"V4_M\", \"V5_M\", \"V8_M\", \"V9_M\", \"V10_M\", \"V11_M\", \"V12_M\", \"V18_M\", \"V19_AM\", \"V21_M\", \"T_VI\"], axis=1, inplace = True)\n",
    "norespondieron.drop([\"V2_M\", \"V3_M\", \"V4_M\", \"V5_M\", \"V8_M\", \"V9_M\", \"V10_M\", \"V11_M\", \"V12_M\", \"V18_M\", \"V19_AM\", \"V21_M\", \"T_VI\"], axis=1, inplace = True)\n",
    "\n",
    "#Eliminamos variables de \"Ingreso total familiar\"\n",
    "respondieron.drop([\"ITF\", \"DECIFR\", \"IDECIFR\", \"RDECIFR\", \"GDECIFR\", \"PDECIFR\", \"ADECIFR\"], axis=1, inplace = True)\n",
    "norespondieron.drop([\"ITF\", \"DECIFR\", \"IDECIFR\", \"RDECIFR\", \"GDECIFR\", \"PDECIFR\", \"ADECIFR\"], axis=1, inplace = True)\n",
    "\n",
    "#Eliminamos variables de \"Ingreso per cápita familiar\"\n",
    "respondieron.drop([\"IPCF\", \"DECCFR\", \"IDECCFR\", \"RDECCFR\", \"GDECCFR\", \"PDECCFR\", \"ADECCFR\", \"PONDIH\"], axis=1, inplace = True)\n",
    "norespondieron.drop([\"IPCF\", \"DECCFR\", \"IDECCFR\", \"RDECCFR\", \"GDECCFR\", \"PDECCFR\", \"ADECCFR\", \"PONDIH\"], axis=1, inplace = True)\n",
    "\n",
    "#Eliminamos las columnas: adulto_equiv, ad_equiv_hogar e ingreso_necesario\n",
    "respondieron.drop([\"adulto_equiv\", \"ad_equiv_hogar\", \"ingreso_necesario\"], axis=1, inplace = True)\n",
    "norespondieron.drop([\"adulto_equiv\", \"ad_equiv_hogar\"], axis=1, inplace = True)"
   ]
  },
  {
   "cell_type": "markdown",
   "id": "7691a95a",
   "metadata": {},
   "source": [
    "#### Ejercicio 2"
   ]
  },
  {
   "cell_type": "code",
   "execution_count": null,
   "id": "1ab10af8",
   "metadata": {},
   "outputs": [],
   "source": [
    "#Importamos un conjunto de paquetes necesarios para el cálculo de los diferentes modelos\n",
    "import numpy as np\n",
    "import sklearn\n",
    "import statsmodels.api as sm\n",
    "\n",
    "from sklearn import datasets\n",
    "from sklearn.linear_model import LogisticRegression\n",
    "from sklearn.model_selection import train_test_split\n",
    "from sklearn.metrics import confusion_matrix\n",
    "from sklearn.metrics import accuracy_score, recall_score \n",
    "from sklearn.metrics import roc_curve\n",
    "from sklearn.metrics import roc_auc_score\n",
    "from sklearn.metrics import RocCurveDisplay\n",
    "from sklearn.discriminant_analysis import LinearDiscriminantAnalysis\n",
    "from sklearn.neighbors import KNeighborsClassifier"
   ]
  },
  {
   "cell_type": "code",
   "execution_count": null,
   "id": "d666e210",
   "metadata": {},
   "outputs": [],
   "source": [
    "#Para chequear la correlacion entre variables\n",
    "corr2 = EPH_2023_1[[\"ANO4\",\"TRIMESTRE\",\"NRO_HOGAR\",\"COMPONENTE\",\"H15\",\"REGION\",\"AGLOMERADO\",\"PONDERA\",\n",
    "\"CH03\",\"CH04\",\"CH06\",\"CH07\",\"CH08\",\"CH09\",\"CH10\",\"CH11\",\"CH12\",\"CH13\",\"CH15\",\"CH16\",\"NIVEL_ED\",\"ESTADO\",\"CAT_OCUP\",\n",
    "\"CAT_INAC\", \"PP02C2\",\"PP02E\",\"PP02H\",\"sexo_edad\",\"PP02C1\",\"PP02C3\",\"PP02C4\",\"PP02C5\",\"PP02C6\", \"PP02C7\",\"PP02C8\",\"PP02I\"]].corr()\n",
    "corr2"
   ]
  },
  {
   "cell_type": "code",
   "execution_count": null,
   "id": "ca17aed8",
   "metadata": {},
   "outputs": [],
   "source": [
    "#Primero realizamos una limpieza eliminando solamente las variables vinculadas a ingresos\n",
    "Xopc1 = respondieron.drop([\"pobre\", \"CODUSU\", \"IMPUTA\", \"CH16_COD\", \"CH15_COD\",\"MAS_500\", \"CH05\", \"PP09A_ESP\", \"PP11M\",\n",
    "                        \"PP11N\", \"PP11O\", \"PP11P\", \"PP11Q\", \"PP11R\", \"PP11S\", \"PP11T\", \"PP11B2_DIA\", \"PP11C\", \"PP11C99\", \n",
    "                        \"PP11D_COD\", \"PP11G_ANO\", \"PP11G_MES\", \"PP11G_DIA\", \"PP11L\", \"PP11L1\", \"PP10A\", \"PP10C\", \"PP10D\",\n",
    "                        \"PP10E\", \"PP11A\", \"PP11B_COD\", \"PP11B1\", \"PP11B2_MES\", \"PP11B2_ANO\", \"PP09C_ESP\",\n",
    "                       \"PP07G4\", \"PP07G_59\", \"PP07H\",\"PP07I\",\"PP07J\",\"PP07K\",\"PP09A\",\"PP09B\",\"PP09C\",\n",
    "                       \"PP07E\", \"PP07F1\", \"PP07F2\", \"PP07F3\", \"PP07F4\",\"PP07F5\",\"PP07G1\",\"PP07G2\",\"PP07G3\",\n",
    "                       \"PP05H\",\"PP06A\",\"PP06C\",\"PP06D\",\"PP06E\",\"PP06H\",\"PP07A\",\"PP07C\",\"PP07D\",\n",
    "                       \"PP04G\",\"PP05B2_MES\",\"PP05B2_ANO\",\"PP05B2_DIA\",\"PP05C_1\",\"PP05C_2\",\"PP05C_3\",\"PP05E\",\"PP05F\",\n",
    "                       \"PP04B_COD\",\"PP04B1\",\"PP04B2\",\"PP04B3_MES\",\"PP04B3_ANO\",\"PP04B3_DIA\",\"PP04C\",\"PP04C99\",\"PP04D_COD\",\n",
    "                       \"PP03D\",\"PP3E_TOT\",\"PP3F_TOT\",\"PP03G\",\"PP03H\",\"PP03I\",\"PP03J\",\"INTENSI\",\"PP04A\",\"PP03C\", \"CH14\"], axis=1)"
   ]
  },
  {
   "cell_type": "code",
   "execution_count": null,
   "id": "f2c8c1aa",
   "metadata": {},
   "outputs": [],
   "source": [
    "#Visualizamos el resultado obtenido\n",
    "Xopc1"
   ]
  },
  {
   "cell_type": "code",
   "execution_count": null,
   "id": "3d0e179e",
   "metadata": {},
   "outputs": [],
   "source": [
    "#Eliminamos las observaciones que tengan algún missing\n",
    "Xopc1bis = Xopc1.dropna() "
   ]
  },
  {
   "cell_type": "code",
   "execution_count": null,
   "id": "a0df92ed",
   "metadata": {},
   "outputs": [],
   "source": [
    "#Visualizamos la base de datos remanente\n",
    "Xopc1bis"
   ]
  },
  {
   "cell_type": "code",
   "execution_count": null,
   "id": "85c654e2",
   "metadata": {},
   "outputs": [],
   "source": [
    "#A continuación creamos una matriz con la categorización de pobreza y las variables predictivas.\n",
    "#A las columnas eliminadas anteriormente sumamos otro conjunto que permita evitar la multicolinealidad alta entre variables\n",
    "y = respondieron[\"pobre\"] \n",
    "Xm = respondieron.drop([\"pobre\", \"CODUSU\", \"IMPUTA\", \"CH16_COD\", \"CH15_COD\",\"MAS_500\", \"CH05\", \"PP09A_ESP\", \"PP11M\",\n",
    "                        \"PP11N\", \"PP11O\", \"PP11P\", \"PP11Q\", \"PP11R\", \"PP11S\", \"PP11T\", \"PP11B2_DIA\", \"PP11C\", \"PP11C99\", \n",
    "                        \"PP11D_COD\", \"PP11G_ANO\", \"PP11G_MES\", \"PP11G_DIA\", \"PP11L\", \"PP11L1\", \"PP10A\", \"PP10C\", \"PP10D\",\n",
    "                        \"PP10E\", \"PP11A\", \"PP11B_COD\", \"PP11B1\", \"PP11B2_MES\", \"PP11B2_ANO\", \"PP09C_ESP\",\n",
    "                       \"PP07G4\", \"PP07G_59\", \"PP07H\",\"PP07I\",\"PP07J\",\"PP07K\",\"PP09A\",\"PP09B\",\"PP09C\",\n",
    "                       \"PP07E\", \"PP07F1\", \"PP07F2\", \"PP07F3\", \"PP07F4\",\"PP07F5\",\"PP07G1\",\"PP07G2\",\"PP07G3\",\n",
    "                       \"PP05H\",\"PP06A\",\"PP06C\",\"PP06D\",\"PP06E\",\"PP06H\",\"PP07A\",\"PP07C\",\"PP07D\",\n",
    "                       \"PP04G\",\"PP05B2_MES\",\"PP05B2_ANO\",\"PP05B2_DIA\",\"PP05C_1\",\"PP05C_2\",\"PP05C_3\",\"PP05E\",\"PP05F\",\n",
    "                       \"PP04B_COD\",\"PP04B1\",\"PP04B2\",\"PP04B3_MES\",\"PP04B3_ANO\",\"PP04B3_DIA\",\"PP04C\",\"PP04C99\",\"PP04D_COD\",\n",
    "                       \"PP03D\",\"PP3E_TOT\",\"PP3F_TOT\",\"PP03G\",\"PP03H\",\"PP03I\",\"PP03J\",\"INTENSI\",\"PP04A\",\"PP03C\", \"CH14\", \n",
    "                       \"PP02C1\",\"PP02C3\",\"PP02C4\",\"PP02C5\",\"PP02C6\", \"PP02C8\",\"PP02I\"], axis=1)\n",
    "\n",
    "\n",
    "#Añadimos la columna de 1\n",
    "Xm = sm.add_constant(Xm)\n",
    "\n",
    "#Convertimos las matrices a formato Numpy\n",
    "Xm, y = np.array(Xm), np.array(y)\n",
    "\n",
    "#Repartimos la base total entre una muestra de entrenamiento y otra de testeo. \n",
    "Xm_train, Xm_test, y_train, y_test = train_test_split(Xm, y, test_size=0.3, random_state=201)"
   ]
  },
  {
   "cell_type": "markdown",
   "id": "e05a5745",
   "metadata": {},
   "source": [
    "#### Ejercicio 3"
   ]
  },
  {
   "cell_type": "markdown",
   "id": "881e93cc",
   "metadata": {},
   "source": [
    "##### Logit"
   ]
  },
  {
   "cell_type": "code",
   "execution_count": null,
   "id": "c3303aa3",
   "metadata": {},
   "outputs": [],
   "source": [
    "#Calculamos el modelo logístico\n",
    "log_reg = LogisticRegression(max_iter=3000).fit(Xm_train, y_train)"
   ]
  },
  {
   "cell_type": "code",
   "execution_count": null,
   "id": "686c1140",
   "metadata": {},
   "outputs": [],
   "source": [
    "#Calculamos la probabilidad de pobreza y la categorización bayesiana\n",
    "y_test_log_score = log_reg.predict_proba(Xm_test)[:,1]\n",
    "y_test_log = log_reg.predict(Xm_test)"
   ]
  },
  {
   "cell_type": "code",
   "execution_count": null,
   "id": "3446b39d",
   "metadata": {
    "scrolled": true
   },
   "outputs": [],
   "source": [
    "#Realizamos la matriz de confusión e imprimimos los resultados\n",
    "matriz_confusion = confusion_matrix(y_test, y_test_log)\n",
    "print('Confusion Matrix:')\n",
    "print(matriz_confusion) \n",
    "\n",
    "#Imprimimos nuevamente pero de forma más clara\n",
    "tn, fp , fn, tp = confusion_matrix(y_test, y_test_log).ravel()\n",
    "print(\"Verdadero 0: \", tn)\n",
    "print(\"Falso 1: \", fp)\n",
    "print(\"Falso 0: \", fn)\n",
    "print(\"Verdadero 1: \", tp)"
   ]
  },
  {
   "cell_type": "code",
   "execution_count": null,
   "id": "ddaad615",
   "metadata": {},
   "outputs": [],
   "source": [
    "#Realizamos el gráfico de la Curva ROC\n",
    "auc = roc_auc_score(y_test, y_test_log_score)\n",
    "fpr, tpr, thresholds = roc_curve(y_test, y_test_log_score)\n",
    "display = RocCurveDisplay(fpr=fpr, tpr=tpr, roc_auc=auc, estimator_name='Reg_log')\n",
    "display.plot()  \n",
    "plt.plot([0, 1], [0, 1], color='red', linestyle='--')\n",
    "plt.show()"
   ]
  },
  {
   "cell_type": "code",
   "execution_count": null,
   "id": "2a0fd397",
   "metadata": {},
   "outputs": [],
   "source": [
    "#Calculamos AUC e imprimimos\n",
    "auc = roc_auc_score(y_test, y_test_log_score)\n",
    "print('AUC: %.4f' % auc)"
   ]
  },
  {
   "cell_type": "code",
   "execution_count": null,
   "id": "2e144079",
   "metadata": {},
   "outputs": [],
   "source": [
    "#Calculamos Accuracy e imprimimos\n",
    "accuracy = accuracy_score(y_test, y_test_log)\n",
    "print('Accuracy: %f' % accuracy)"
   ]
  },
  {
   "cell_type": "markdown",
   "id": "ee0b29aa",
   "metadata": {},
   "source": [
    "##### Análisis de discriminante lineal"
   ]
  },
  {
   "cell_type": "code",
   "execution_count": null,
   "id": "5cfd3f0f",
   "metadata": {},
   "outputs": [],
   "source": [
    "#Estimamos el modelo de discriminante lineal\n",
    "lda = LinearDiscriminantAnalysis(n_components=1)\n",
    "lda = lda.fit(Xm_train, y_train)"
   ]
  },
  {
   "cell_type": "code",
   "execution_count": null,
   "id": "c88f7681",
   "metadata": {},
   "outputs": [],
   "source": [
    "#Calculamos las probabilidades de ser pobre y las clasificaciones predichas por el modelo\n",
    "y_test_lda_score = lda.predict_proba(Xm_test)[:,1]\n",
    "y_test_lda = lda.predict(Xm_test)"
   ]
  },
  {
   "cell_type": "code",
   "execution_count": null,
   "id": "2355c1e9",
   "metadata": {},
   "outputs": [],
   "source": [
    "#Nuevamente realizamos la matriz de confusión y su impresión más clara\n",
    "\n",
    "matriz_confusion = confusion_matrix(y_test, y_test_lda)\n",
    "print('Confusion Matrix:')\n",
    "print(matriz_confusion) \n",
    "\n",
    "tn, fp , fn, tp = confusion_matrix(y_test, y_test_lda).ravel()\n",
    "\n",
    "print(\"Verdadero 0: \", tn)\n",
    "print(\"Falso 1: \", fp)\n",
    "print(\"Falso 0: \", fn)\n",
    "print(\"Verdadero 1: \", tp)"
   ]
  },
  {
   "cell_type": "code",
   "execution_count": null,
   "id": "523ca21d",
   "metadata": {},
   "outputs": [],
   "source": [
    "#Graficamos Curva ROC\n",
    "auc = roc_auc_score(y_test, y_test_lda_score)\n",
    "fpr, tpr, thresholds = roc_curve(y_test, y_test_lda_score)\n",
    "display = RocCurveDisplay(fpr=fpr, tpr=tpr, roc_auc=auc, estimator_name='Reg_log')\n",
    "display.plot()  \n",
    "plt.plot([0, 1], [0, 1], color='red', linestyle='--')\n",
    "plt.show()"
   ]
  },
  {
   "cell_type": "code",
   "execution_count": null,
   "id": "fa7b6264",
   "metadata": {},
   "outputs": [],
   "source": [
    "#Calculamos AUC\n",
    "auc = roc_auc_score(y_test, y_test_lda_score)\n",
    "print('AUC: %.4f' % auc)"
   ]
  },
  {
   "cell_type": "code",
   "execution_count": null,
   "id": "fec2475f",
   "metadata": {},
   "outputs": [],
   "source": [
    "#Calculamos Accuracy\n",
    "accuracy = accuracy_score(y_test, y_test_lda)\n",
    "print('Accuracy: %f' % accuracy)"
   ]
  },
  {
   "cell_type": "markdown",
   "id": "7b5df377",
   "metadata": {},
   "source": [
    "##### KNN con k = 3"
   ]
  },
  {
   "cell_type": "code",
   "execution_count": null,
   "id": "500c4434",
   "metadata": {},
   "outputs": [],
   "source": [
    "#Estimamos el modelo de vecinos cercanos con k=3\n",
    "knn = KNeighborsClassifier(n_neighbors=3)\n",
    "knn = knn.fit(Xm_train, y_train)"
   ]
  },
  {
   "cell_type": "code",
   "execution_count": null,
   "id": "720459bc",
   "metadata": {},
   "outputs": [],
   "source": [
    "#Calculamos las probabilidades y valores de pobreza predichos\n",
    "y_test_knn_score = knn.predict_proba(Xm_test)[:,1]\n",
    "y_test_knn = knn.predict(Xm_test)"
   ]
  },
  {
   "cell_type": "code",
   "execution_count": null,
   "id": "445e6559",
   "metadata": {},
   "outputs": [],
   "source": [
    "#Realizamos la matriz de confusión e imprimimos los resultados\n",
    "\n",
    "matriz_confusion = confusion_matrix(y_test, y_test_knn)\n",
    "print('Confusion Matrix:')\n",
    "print(matriz_confusion) \n",
    "\n",
    "tn, fp , fn, tp = confusion_matrix(y_test, y_test_knn).ravel()  \n",
    "print(\"Verdadero 0: \", tn)\n",
    "print(\"Falso 1: \", fp)\n",
    "print(\"Falso 0: \", fn)\n",
    "print(\"Verdadero 1: \", tp)"
   ]
  },
  {
   "cell_type": "code",
   "execution_count": null,
   "id": "1ce5433c",
   "metadata": {},
   "outputs": [],
   "source": [
    "#Graficamos la Curva ROC\n",
    "auc = roc_auc_score(y_test, y_test_knn_score)\n",
    "fpr, tpr, thresholds = roc_curve(y_test, y_test_knn_score)\n",
    "display = RocCurveDisplay(fpr=fpr, tpr=tpr, roc_auc=auc, estimator_name='Reg_log')\n",
    "display.plot()  \n",
    "plt.plot([0, 1], [0, 1], color='red', linestyle='--')\n",
    "plt.show()"
   ]
  },
  {
   "cell_type": "code",
   "execution_count": null,
   "id": "9a430a74",
   "metadata": {},
   "outputs": [],
   "source": [
    "#Calculamos AUC\n",
    "auc = roc_auc_score(y_test, y_test_knn_score)\n",
    "print('AUC: %.4f' % auc)"
   ]
  },
  {
   "cell_type": "code",
   "execution_count": null,
   "id": "b3b2fb2d",
   "metadata": {},
   "outputs": [],
   "source": [
    "#Calculamos Accuracy\n",
    "accuracy = accuracy_score(y_test, y_test_knn)\n",
    "print('Accuracy: %f' % accuracy)"
   ]
  },
  {
   "cell_type": "markdown",
   "id": "bd448b6b",
   "metadata": {},
   "source": [
    "##### Ejercicio 5"
   ]
  },
  {
   "cell_type": "code",
   "execution_count": null,
   "id": "acf6234c",
   "metadata": {},
   "outputs": [],
   "source": [
    "#Ajustamos la base de los que no respondieron, quedandonos con los mismos predictores que utilizamos para poder estimar el modelo\n",
    "norespondieron_aj = norespondieron.drop([ \"CODUSU\", \"IMPUTA\", \"CH16_COD\", \"CH15_COD\",\"MAS_500\", \"CH05\", \"PP09A_ESP\", \"PP11M\",\n",
    "                        \"PP11N\", \"PP11O\", \"PP11P\", \"PP11Q\", \"PP11R\", \"PP11S\", \"PP11T\", \"PP11B2_DIA\", \"PP11C\", \"PP11C99\", \n",
    "                        \"PP11D_COD\", \"PP11G_ANO\", \"PP11G_MES\", \"PP11G_DIA\", \"PP11L\", \"PP11L1\", \"PP10A\", \"PP10C\", \"PP10D\",\n",
    "                        \"PP10E\", \"PP11A\", \"PP11B_COD\", \"PP11B1\", \"PP11B2_MES\", \"PP11B2_ANO\", \"PP09C_ESP\",\n",
    "                       \"PP07G4\", \"PP07G_59\", \"PP07H\",\"PP07I\",\"PP07J\",\"PP07K\",\"PP09A\",\"PP09B\",\"PP09C\",\n",
    "                       \"PP07E\", \"PP07F1\", \"PP07F2\", \"PP07F3\", \"PP07F4\",\"PP07F5\",\"PP07G1\",\"PP07G2\",\"PP07G3\",\n",
    "                       \"PP05H\",\"PP06A\",\"PP06C\",\"PP06D\",\"PP06E\",\"PP06H\",\"PP07A\",\"PP07C\",\"PP07D\",\n",
    "                       \"PP04G\",\"PP05B2_MES\",\"PP05B2_ANO\",\"PP05B2_DIA\",\"PP05C_1\",\"PP05C_2\",\"PP05C_3\",\"PP05E\",\"PP05F\",\n",
    "                       \"PP04B_COD\",\"PP04B1\",\"PP04B2\",\"PP04B3_MES\",\"PP04B3_ANO\",\"PP04B3_DIA\",\"PP04C\",\"PP04C99\",\"PP04D_COD\",\n",
    "                       \"PP03D\",\"PP3E_TOT\",\"PP3F_TOT\",\"PP03G\",\"PP03H\",\"PP03I\",\"PP03J\",\"INTENSI\",\"PP04A\",\"PP03C\", \"CH14\", \"PP02C7\",\n",
    "                       \"PP02C1\",\"PP02C3\",\"PP02C4\",\"PP02C5\",\"PP02C6\",\"PP02C8\",\"PP02I\"], axis=1)"
   ]
  },
  {
   "cell_type": "code",
   "execution_count": null,
   "id": "abac945d",
   "metadata": {
    "scrolled": true
   },
   "outputs": [],
   "source": [
    "#Calculamos las probababilidades y clasificaciones de pobreza para cada uno de los individuos que no habían respondido ITF\n",
    "#Nos quedamos con el modelo logístico ya que tiene mayor ACU, mayor ACCURACY, mayor cantidad de Verdaderos Positivos y Negativos y menor cantidad de Falsos Positivos y Negativos\n",
    "prob_pobres_norespondieron = log_reg.predict_proba(norespondieron_aj)[:,1]\n",
    "pobres_norespondieron = log_reg.predict(norespondieron_aj)\n",
    "proporcion_pobres = sum(pobres_norespondieron)/len(pobres_norespondieron)\n",
    "print(\"Proporción de pobres: \", proporcion_pobres)"
   ]
  },
  {
   "cell_type": "code",
   "execution_count": null,
   "id": "54079557",
   "metadata": {},
   "outputs": [],
   "source": [
    "#Total de personas pobres\n",
    "sum(pobres_norespondieron)"
   ]
  },
  {
   "cell_type": "markdown",
   "id": "13401ed8",
   "metadata": {},
   "source": [
    "#### Ejercicio 6"
   ]
  },
  {
   "cell_type": "code",
   "execution_count": null,
   "id": "88b6b4d6",
   "metadata": {},
   "outputs": [],
   "source": [
    "#Retomamos los predictores utilizamos en el ejercicio 3\n",
    "y = respondieron[\"pobre\"] \n",
    "Xm = respondieron.drop([\"pobre\", \"CODUSU\", \"IMPUTA\", \"CH16_COD\", \"CH15_COD\",\"MAS_500\", \"CH05\", \"PP09A_ESP\", \"PP11M\",\n",
    "                        \"PP11N\", \"PP11O\", \"PP11P\", \"PP11Q\", \"PP11R\", \"PP11S\", \"PP11T\", \"PP11B2_DIA\", \"PP11C\", \"PP11C99\", \n",
    "                        \"PP11D_COD\", \"PP11G_ANO\", \"PP11G_MES\", \"PP11G_DIA\", \"PP11L\", \"PP11L1\", \"PP10A\", \"PP10C\", \"PP10D\",\n",
    "                        \"PP10E\", \"PP11A\", \"PP11B_COD\", \"PP11B1\", \"PP11B2_MES\", \"PP11B2_ANO\", \"PP09C_ESP\",\n",
    "                       \"PP07G4\", \"PP07G_59\", \"PP07H\",\"PP07I\",\"PP07J\",\"PP07K\",\"PP09A\",\"PP09B\",\"PP09C\",\n",
    "                       \"PP07E\", \"PP07F1\", \"PP07F2\", \"PP07F3\", \"PP07F4\",\"PP07F5\",\"PP07G1\",\"PP07G2\",\"PP07G3\",\n",
    "                       \"PP05H\",\"PP06A\",\"PP06C\",\"PP06D\",\"PP06E\",\"PP06H\",\"PP07A\",\"PP07C\",\"PP07D\",\n",
    "                       \"PP04G\",\"PP05B2_MES\",\"PP05B2_ANO\",\"PP05B2_DIA\",\"PP05C_1\",\"PP05C_2\",\"PP05C_3\",\"PP05E\",\"PP05F\",\n",
    "                       \"PP04B_COD\",\"PP04B1\",\"PP04B2\",\"PP04B3_MES\",\"PP04B3_ANO\",\"PP04B3_DIA\",\"PP04C\",\"PP04C99\",\"PP04D_COD\",\n",
    "                       \"PP03D\",\"PP3E_TOT\",\"PP3F_TOT\",\"PP03G\",\"PP03H\",\"PP03I\",\"PP03J\",\"INTENSI\",\"PP04A\",\"PP03C\", \"CH14\", \"PP02C7\",\n",
    "                       \"PP02C1\",\"PP02C3\",\"PP02C4\",\"PP02C5\",\"PP02C6\",\"PP02C8\",\"PP02I\"], axis=1)\n",
    "#Observamos sus columnas\n",
    "Xm.columns"
   ]
  },
  {
   "cell_type": "code",
   "execution_count": null,
   "id": "debe0ccb",
   "metadata": {},
   "outputs": [],
   "source": [
    "#Eliminamos columnas poco relevantes a nuestro juicio que suman ruido a la estimación y no aportan cuestiones significativas\n",
    "Xm_aj = Xm.drop(['ANO4', 'NRO_HOGAR', 'TRIMESTRE', 'COMPONENTE', \n",
    "                 'H15','PONDERA', 'REGION','CH03'], \n",
    "                axis=1)\n",
    "\n",
    "#Visualizamos los predictores remanentes\n",
    "Xm_aj.columns"
   ]
  },
  {
   "cell_type": "code",
   "execution_count": null,
   "id": "c7e85384",
   "metadata": {},
   "outputs": [],
   "source": [
    "#Agregamos la constante y separamos la muestra entre testeo y entrenamiento\n",
    "Xm_aj = sm.add_constant(Xm_aj)\n",
    "Xm_aj, y = np.array(Xm_aj), np.array(y)\n",
    "\n",
    "Xm_aj_train, Xm_aj_test, y_train, y_test = train_test_split(Xm_aj, y, test_size=0.3, random_state=201)"
   ]
  },
  {
   "cell_type": "code",
   "execution_count": null,
   "id": "b7e854d1",
   "metadata": {},
   "outputs": [],
   "source": [
    "#Volvemos a estimar el modelo logístico con los nuevos predictores\n",
    "log_reg_aj = LogisticRegression(max_iter=3000).fit(Xm_aj_train, y_train)"
   ]
  },
  {
   "cell_type": "code",
   "execution_count": null,
   "id": "39ea683e",
   "metadata": {},
   "outputs": [],
   "source": [
    "#Calculamos los valores predichos de pobreza y la probabilidad de pertenecer a cada categoría\n",
    "y_test_log_score_aj = log_reg_aj.predict_proba(Xm_aj_test)[:,1]\n",
    "y_test_log_aj = log_reg_aj.predict(Xm_aj_test)"
   ]
  },
  {
   "cell_type": "code",
   "execution_count": null,
   "id": "29599b38",
   "metadata": {},
   "outputs": [],
   "source": [
    "#Graficamos la matriz de confusión e imprimimos de forma clara\n",
    "\n",
    "matriz_confusion = confusion_matrix(y_test, y_test_log_aj)\n",
    "print('Confusion Matrix:')\n",
    "print(matriz_confusion) \n",
    "\n",
    "tn, fp , fn, tp = confusion_matrix(y_test, y_test_log_aj).ravel() \n",
    "\n",
    "print(\"Verdadero 0: \", tn)\n",
    "print(\"Falso 1: \", fp)\n",
    "print(\"Falso 0: \", fn)\n",
    "print(\"Verdadero 1: \", tp)"
   ]
  },
  {
   "cell_type": "code",
   "execution_count": null,
   "id": "ade70728",
   "metadata": {},
   "outputs": [],
   "source": [
    "#Graficamos la curva ROC\n",
    "auc = roc_auc_score(y_test, y_test_log_score_aj)\n",
    "fpr, tpr, thresholds = roc_curve(y_test, y_test_log_score_aj)\n",
    "display = RocCurveDisplay(fpr=fpr, tpr=tpr, roc_auc=auc, estimator_name='Reg_log')\n",
    "display.plot()  \n",
    "plt.plot([0, 1], [0, 1], color='red', linestyle='--')\n",
    "plt.show()"
   ]
  },
  {
   "cell_type": "code",
   "execution_count": null,
   "id": "cacb8b92",
   "metadata": {},
   "outputs": [],
   "source": [
    "#Calculamos AUC\n",
    "auc = roc_auc_score(y_test,y_test_log_score_aj)\n",
    "print('AUC: %.4f' % auc)"
   ]
  },
  {
   "cell_type": "code",
   "execution_count": null,
   "id": "3752bab1",
   "metadata": {},
   "outputs": [],
   "source": [
    "#Calculamos Accuracy\n",
    "accuracy = accuracy_score(y_test, y_test_log_aj)\n",
    "print('Accuracy: %f' % accuracy)"
   ]
  },
  {
   "cell_type": "code",
   "execution_count": null,
   "id": "3c248d12",
   "metadata": {},
   "outputs": [],
   "source": [
    "#INTENTO\n",
    "\n",
    "#Ajustamos la base de los que no respondieron, quedandonos con los mismos predictores que utilizamos para poder estimar el modelo\n",
    "norespondieron_aj2 = norespondieron.drop([ \"CODUSU\", \"IMPUTA\", \"CH16_COD\", \"CH15_COD\",\"MAS_500\", \"CH05\", \"PP09A_ESP\", \"PP11M\",\n",
    "                        \"PP11N\", \"PP11O\", \"PP11P\", \"PP11Q\", \"PP11R\", \"PP11S\", \"PP11T\", \"PP11B2_DIA\", \"PP11C\", \"PP11C99\", \n",
    "                        \"PP11D_COD\", \"PP11G_ANO\", \"PP11G_MES\", \"PP11G_DIA\", \"PP11L\", \"PP11L1\", \"PP10A\", \"PP10C\", \"PP10D\",\n",
    "                        \"PP10E\", \"PP11A\", \"PP11B_COD\", \"PP11B1\", \"PP11B2_MES\", \"PP11B2_ANO\", \"PP09C_ESP\",\n",
    "                       \"PP07G4\", \"PP07G_59\", \"PP07H\",\"PP07I\",\"PP07J\",\"PP07K\",\"PP09A\",\"PP09B\",\"PP09C\",\n",
    "                       \"PP07E\", \"PP07F1\", \"PP07F2\", \"PP07F3\", \"PP07F4\",\"PP07F5\",\"PP07G1\",\"PP07G2\",\"PP07G3\",\n",
    "                       \"PP05H\",\"PP06A\",\"PP06C\",\"PP06D\",\"PP06E\",\"PP06H\",\"PP07A\",\"PP07C\",\"PP07D\",\n",
    "                       \"PP04G\",\"PP05B2_MES\",\"PP05B2_ANO\",\"PP05B2_DIA\",\"PP05C_1\",\"PP05C_2\",\"PP05C_3\",\"PP05E\",\"PP05F\",\n",
    "                       \"PP04B_COD\",\"PP04B1\",\"PP04B2\",\"PP04B3_MES\",\"PP04B3_ANO\",\"PP04B3_DIA\",\"PP04C\",\"PP04C99\",\"PP04D_COD\",\n",
    "                       \"PP03D\",\"PP3E_TOT\",\"PP3F_TOT\",\"PP03G\",\"PP03H\",\"PP03I\",\"PP03J\",\"INTENSI\",\"PP04A\",\"PP03C\", \"CH14\", \"PP02C7\",\n",
    "                       \"PP02C1\",\"PP02C3\",\"PP02C4\",\"PP02C5\",\"PP02C6\",\"PP02C8\",\"PP02I\",'ANO4', 'NRO_HOGAR', 'TRIMESTRE', 'COMPONENTE', \n",
    "                       'H15','PONDERA', 'REGION','CH03'], axis=1)\n",
    "\n"
   ]
  },
  {
   "cell_type": "code",
   "execution_count": null,
   "id": "18a33441",
   "metadata": {},
   "outputs": [],
   "source": [
    "#Calculamos las probababilidades y clasificaciones de pobreza para cada uno de los individuos que no habían respondido ITF\n",
    "#Nos quedamos con el modelo logístico ya que tiene mayor ACU, mayor ACCURACY, mayor cantidad de Verdaderos Positivos y Negativos y menor cantidad de Falsos Positivos y Negativos\n",
    "prob_pobres_norespondieron2 = log_reg_aj.predict_proba(norespondieron_aj2)[:,1]\n",
    "pobres_norespondieron2 = log_reg_aj.predict(norespondieron_aj)\n",
    "proporcion_pobres2 = sum(pobres_norespondieron2)/len(pobres_norespondieron2)\n",
    "print(\"Proporción de pobres: \", proporcion_pobres2)"
   ]
  },
  {
   "cell_type": "code",
   "execution_count": null,
   "id": "04501728",
   "metadata": {},
   "outputs": [],
   "source": []
  }
 ],
 "metadata": {
  "kernelspec": {
   "display_name": "Python 3 (ipykernel)",
   "language": "python",
   "name": "python3"
  },
  "language_info": {
   "codemirror_mode": {
    "name": "ipython",
    "version": 3
   },
   "file_extension": ".py",
   "mimetype": "text/x-python",
   "name": "python",
   "nbconvert_exporter": "python",
   "pygments_lexer": "ipython3",
   "version": "3.11.5"
  }
 },
 "nbformat": 4,
 "nbformat_minor": 5
}
